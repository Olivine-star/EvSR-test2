{
 "cells": [
  {
   "cell_type": "code",
   "id": "initial_id",
   "metadata": {
    "collapsed": true,
    "ExecuteTime": {
     "end_time": "2025-07-13T16:04:15.358717Z",
     "start_time": "2025-07-13T16:04:15.350385Z"
    }
   },
   "source": [
    "\n",
    "\n",
    "ckpt_number=1\n",
    "ckptPath=\"result/TestAutomatic\"\n",
    "savepath=ckptPath+\"/inference\""
   ],
   "outputs": [],
   "execution_count": 2
  },
  {
   "metadata": {},
   "cell_type": "markdown",
   "source": "# 训练",
   "id": "baba075394f12f6e"
  },
  {
   "metadata": {
    "jupyter": {
     "is_executing": true
    },
    "ExecuteTime": {
     "start_time": "2025-07-13T16:04:18.004205Z"
    }
   },
   "cell_type": "code",
   "source": [
    "import nMnist.trainNmnist_Louck as train\n",
    "from types import SimpleNamespace\n",
    "args = SimpleNamespace(\n",
    "    bs=64,                         # batch size\n",
    "    savepath=ckptPath,           # checkpoint 保存目录\n",
    "    epoch=1,                      # 训练轮数\n",
    "    showFreq=50,                  # 显示频率\n",
    "    lr=0.1,                       # 学习率\n",
    "    cuda='0',                     # 使用哪张 GPU\n",
    "    j=4,                           # DataLoader 线程数（可选，也许 opts.py 有定义）\n",
    "    dataset_path='dataset_path.txt',\n",
    "    networkyaml='nMnist/network.yaml'\n",
    ")\n",
    "\n",
    "train.main(args)\n"
   ],
   "id": "529423ec1c14b12d",
   "outputs": [
    {
     "name": "stdout",
     "output_type": "stream",
     "text": [
      "Read data 0\n",
      "Read data 1\n",
      "Read data 2\n",
      "Read data 3\n",
      "Read data 4\n",
      "Read data 5\n",
      "Read data 6\n",
      "Read data 7\n",
      "Read data 8\n",
      "Read data 9\n",
      "Read data 0\n",
      "Read data 1\n",
      "Read data 2\n",
      "Read data 3\n",
      "Read data 4\n",
      "Read data 5\n",
      "Read data 6\n",
      "Read data 7\n",
      "Read data 8\n",
      "Read data 9\n",
      "Training sample: 60000, Testing sample: 10000\n",
      "DataParallel(\n",
      "  (module): NetworkBasic(\n",
      "    (slayer1): spikeLayer()\n",
      "    (slayer2): spikeLayer()\n",
      "    (slayer3): spikeLayer()\n",
      "    (conv1): _convLayer(1, 8, kernel_size=(5, 5, 1), stride=(1, 1, 1), padding=(2, 2, 0), bias=False)\n",
      "    (conv2): _convLayer(8, 8, kernel_size=(3, 3, 1), stride=(1, 1, 1), padding=(1, 1, 0), bias=False)\n",
      "    (upconv1): _convTransposeLayer(8, 1, kernel_size=(2, 2, 1), stride=(2, 2, 1), bias=False)\n",
      "    (attn1): SpatialAttention3D(\n",
      "      (conv): Conv3d(1, 1, kernel_size=(3, 3, 3), stride=(1, 1, 1), padding=(1, 1, 1))\n",
      "    )\n",
      "    (attn2): SpatialAttention3D(\n",
      "      (conv): Conv3d(1, 1, kernel_size=(3, 3, 3), stride=(1, 1, 1), padding=(1, 1, 1))\n",
      "    )\n",
      "  )\n",
      ")\n",
      "[INFO] No checkpoint found. Starting training from scratch.\n"
     ]
    }
   ],
   "execution_count": null
  },
  {
   "metadata": {},
   "cell_type": "markdown",
   "source": "# 评估",
   "id": "986b42d7cc4c7285"
  },
  {
   "metadata": {},
   "cell_type": "code",
   "outputs": [],
   "execution_count": null,
   "source": [
    "import inference\n",
    "inference.inference(ckpt_number=10, ckpt_root=ckptPath, hrPath=None, lrPath=None, base_savepath=savepath)"
   ],
   "id": "b62bdc6c65e95c46"
  },
  {
   "metadata": {},
   "cell_type": "code",
   "outputs": [],
   "execution_count": null,
   "source": "",
   "id": "89864fde9d15742b"
  }
 ],
 "metadata": {
  "kernelspec": {
   "display_name": "Python 3",
   "language": "python",
   "name": "python3"
  },
  "language_info": {
   "codemirror_mode": {
    "name": "ipython",
    "version": 2
   },
   "file_extension": ".py",
   "mimetype": "text/x-python",
   "name": "python",
   "nbconvert_exporter": "python",
   "pygments_lexer": "ipython2",
   "version": "2.7.6"
  }
 },
 "nbformat": 4,
 "nbformat_minor": 5
}
