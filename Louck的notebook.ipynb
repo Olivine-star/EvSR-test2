{
 "cells": [
  {
   "cell_type": "code",
   "id": "initial_id",
   "metadata": {
    "collapsed": true,
    "ExecuteTime": {
     "end_time": "2025-07-13T16:34:37.995602Z",
     "start_time": "2025-07-13T16:34:37.979035Z"
    }
   },
   "source": [
    "ckpt_number=1\n",
    "ckptPath=\"result/TestAutomatic\""
   ],
   "outputs": [],
   "execution_count": 2
  },
  {
   "metadata": {},
   "cell_type": "markdown",
   "source": "# 训练",
   "id": "baba075394f12f6e"
  },
  {
   "metadata": {},
   "cell_type": "code",
   "source": [
    "import nMnist.trainNmnist_Louck as train\n",
    "from types import SimpleNamespace\n",
    "args = SimpleNamespace(\n",
    "    bs=64,                         # batch size\n",
    "    savepath=ckptPath,           # checkpoint 保存目录\n",
    "    epoch=1,                      # 训练轮数\n",
    "    showFreq=50,                  # 显示频率\n",
    "    lr=0.1,                       # 学习率\n",
    "    cuda='0',                     # 使用哪张 GPU\n",
    "    j=4,                           # DataLoader 线程数（可选，也许 opts.py 有定义）\n",
    "    dataset_path='dataset_path.txt',\n",
    "    networkyaml='nMnist/network.yaml'\n",
    ")\n",
    "\n",
    "ckptPath = train.main(args)\n"
   ],
   "id": "529423ec1c14b12d",
   "outputs": [],
   "execution_count": null
  },
  {
   "metadata": {},
   "cell_type": "markdown",
   "source": "# 评估",
   "id": "986b42d7cc4c7285"
  },
  {
   "metadata": {
    "ExecuteTime": {
     "end_time": "2025-07-13T16:35:58.994459Z",
     "start_time": "2025-07-13T16:35:58.655450Z"
    }
   },
   "cell_type": "code",
   "source": [
    "import inference\n",
    "savepath=ckptPath+\"/inference\"\n",
    "#ckptPath=\"result/TestAutomatic/bs64_lr0.1_ep1_cuda0_20250714_000419\"\n",
    "inference.running_inference(ckpt_number=1, ckpt_root=ckptPath, hrPath=None, lrPath=None, base_savepath=savepath)"
   ],
   "id": "b62bdc6c65e95c46",
   "outputs": [
    {
     "name": "stdout",
     "output_type": "stream",
     "text": [
      "\n",
      "▶️  Running inference for ckpt0 ...\n",
      "[INFO] Looking for checkpoint at: result/TestAutomatic/bs64_lr0.1_ep1_cuda0_20250714_000419\\ckpt0.pth\n",
      "✅ Loaded checkpoint from: result/TestAutomatic/bs64_lr0.1_ep1_cuda0_20250714_000419\\ckpt0.pth\n"
     ]
    },
    {
     "name": "stderr",
     "output_type": "stream",
     "text": [
      "C:\\Users\\xuchu\\PycharmProjects\\EvSR-test2\\utils\\ckpt.py:18: FutureWarning: You are using `torch.load` with `weights_only=False` (the current default value), which uses the default pickle module implicitly. It is possible to construct malicious pickle data which will execute arbitrary code during unpickling (See https://github.com/pytorch/pytorch/blob/main/SECURITY.md#untrusted-models for more details). In a future release, the default value for `weights_only` will be flipped to `True`. This limits the functions that could be executed during unpickling. Arbitrary objects will no longer be allowed to be loaded via this mode unless they are explicitly allowlisted by the user via `torch.serialization.add_safe_globals`. We recommend you start setting `weights_only=True` for any use case where you don't have full control of the loaded file. Please open an issue on GitHub for any issues related to this experimental feature.\n",
      "  model_CKPT = torch.load(f)\n"
     ]
    },
    {
     "ename": "RuntimeError",
     "evalue": "Error(s) in loading state_dict for DataParallel:\n\tMissing key(s) in state_dict: \"module.pos_branch.slayer1.srmKernel\", \"module.pos_branch.slayer1.refKernel\", \"module.pos_branch.slayer2.srmKernel\", \"module.pos_branch.slayer2.refKernel\", \"module.pos_branch.slayer3.srmKernel\", \"module.pos_branch.slayer3.refKernel\", \"module.pos_branch.conv1.weight\", \"module.pos_branch.conv2.weight\", \"module.pos_branch.upconv1.weight\", \"module.pos_branch.attn1.conv.weight\", \"module.pos_branch.attn1.conv.bias\", \"module.pos_branch.attn2.conv.weight\", \"module.pos_branch.attn2.conv.bias\", \"module.neg_branch.slayer1.srmKernel\", \"module.neg_branch.slayer1.refKernel\", \"module.neg_branch.slayer2.srmKernel\", \"module.neg_branch.slayer2.refKernel\", \"module.neg_branch.slayer3.srmKernel\", \"module.neg_branch.slayer3.refKernel\", \"module.neg_branch.conv1.weight\", \"module.neg_branch.conv2.weight\", \"module.neg_branch.upconv1.weight\", \"module.neg_branch.attn1.conv.weight\", \"module.neg_branch.attn1.conv.bias\", \"module.neg_branch.attn2.conv.weight\", \"module.neg_branch.attn2.conv.bias\". \n\tUnexpected key(s) in state_dict: \"module.slayer1.srmKernel\", \"module.slayer1.refKernel\", \"module.slayer2.srmKernel\", \"module.slayer2.refKernel\", \"module.slayer3.srmKernel\", \"module.slayer3.refKernel\", \"module.conv1.weight\", \"module.conv2.weight\", \"module.upconv1.weight\", \"module.attn1.conv.weight\", \"module.attn1.conv.bias\", \"module.attn2.conv.weight\", \"module.attn2.conv.bias\". ",
     "output_type": "error",
     "traceback": [
      "\u001B[1;31m---------------------------------------------------------------------------\u001B[0m",
      "\u001B[1;31mRuntimeError\u001B[0m                              Traceback (most recent call last)",
      "Cell \u001B[1;32mIn[4], line 4\u001B[0m\n\u001B[0;32m      2\u001B[0m savepath\u001B[38;5;241m=\u001B[39m\u001B[38;5;124m\"\u001B[39m\u001B[38;5;124mresult/TestAutomatic/bs64_lr0.1_ep1_cuda0_20250714_000419/inference\u001B[39m\u001B[38;5;124m\"\u001B[39m\n\u001B[0;32m      3\u001B[0m ckptPath\u001B[38;5;241m=\u001B[39m\u001B[38;5;124m\"\u001B[39m\u001B[38;5;124mresult/TestAutomatic/bs64_lr0.1_ep1_cuda0_20250714_000419\u001B[39m\u001B[38;5;124m\"\u001B[39m\n\u001B[1;32m----> 4\u001B[0m \u001B[43minference\u001B[49m\u001B[38;5;241;43m.\u001B[39;49m\u001B[43mrunning_inference\u001B[49m\u001B[43m(\u001B[49m\u001B[43mckpt_number\u001B[49m\u001B[38;5;241;43m=\u001B[39;49m\u001B[38;5;241;43m10\u001B[39;49m\u001B[43m,\u001B[49m\u001B[43m \u001B[49m\u001B[43mckpt_root\u001B[49m\u001B[38;5;241;43m=\u001B[39;49m\u001B[43mckptPath\u001B[49m\u001B[43m,\u001B[49m\u001B[43m \u001B[49m\u001B[43mhrPath\u001B[49m\u001B[38;5;241;43m=\u001B[39;49m\u001B[38;5;28;43;01mNone\u001B[39;49;00m\u001B[43m,\u001B[49m\u001B[43m \u001B[49m\u001B[43mlrPath\u001B[49m\u001B[38;5;241;43m=\u001B[39;49m\u001B[38;5;28;43;01mNone\u001B[39;49;00m\u001B[43m,\u001B[49m\u001B[43m \u001B[49m\u001B[43mbase_savepath\u001B[49m\u001B[38;5;241;43m=\u001B[39;49m\u001B[43msavepath\u001B[49m\u001B[43m)\u001B[49m\n",
      "File \u001B[1;32m~\\PycharmProjects\\EvSR-test2\\inference.py:45\u001B[0m, in \u001B[0;36mrunning_inference\u001B[1;34m(ckpt_number, ckpt_root, hrPath, lrPath, base_savepath)\u001B[0m\n\u001B[0;32m     42\u001B[0m os\u001B[38;5;241m.\u001B[39mmakedirs(savepath, exist_ok\u001B[38;5;241m=\u001B[39m\u001B[38;5;28;01mTrue\u001B[39;00m)\n\u001B[0;32m     44\u001B[0m \u001B[38;5;28mprint\u001B[39m(\u001B[38;5;124mf\u001B[39m\u001B[38;5;124m\"\u001B[39m\u001B[38;5;130;01m\\n\u001B[39;00m\u001B[38;5;124m▶️  Running inference for \u001B[39m\u001B[38;5;132;01m{\u001B[39;00mckpt_name\u001B[38;5;132;01m}\u001B[39;00m\u001B[38;5;124m ...\u001B[39m\u001B[38;5;124m\"\u001B[39m)\n\u001B[1;32m---> 45\u001B[0m \u001B[43minference\u001B[49m\u001B[43m(\u001B[49m\u001B[43mckpt_root\u001B[49m\u001B[43m,\u001B[49m\u001B[43m \u001B[49m\u001B[43mhrPath\u001B[49m\u001B[43m,\u001B[49m\u001B[43m \u001B[49m\u001B[43mlrPath\u001B[49m\u001B[43m,\u001B[49m\u001B[43m \u001B[49m\u001B[43msavepath\u001B[49m\u001B[43m,\u001B[49m\u001B[43m \u001B[49m\u001B[43mckptname\u001B[49m\u001B[38;5;241;43m=\u001B[39;49m\u001B[43mckpt_name\u001B[49m\u001B[43m)\u001B[49m\n\u001B[0;32m     47\u001B[0m \u001B[38;5;28mprint\u001B[39m(\u001B[38;5;124mf\u001B[39m\u001B[38;5;124m\"\u001B[39m\u001B[38;5;124m📊 Evaluating \u001B[39m\u001B[38;5;132;01m{\u001B[39;00mckpt_name\u001B[38;5;132;01m}\u001B[39;00m\u001B[38;5;124m ...\u001B[39m\u001B[38;5;124m\"\u001B[39m)\n\u001B[0;32m     48\u001B[0m rmse, rmse_s, rmse_t, pa \u001B[38;5;241m=\u001B[39m running_cal_RMSE(savepath, os\u001B[38;5;241m.\u001B[39mpath\u001B[38;5;241m.\u001B[39mdirname(hrPath))\n",
      "File \u001B[1;32m~\\PycharmProjects\\EvSR-test2\\nMnist\\testNmnist_Louck_double.py:116\u001B[0m, in \u001B[0;36minference\u001B[1;34m(ckptPath, hrPath, lrPath, savepath, ckptname, networkyaml)\u001B[0m\n\u001B[0;32m    113\u001B[0m m \u001B[38;5;241m=\u001B[39m torch\u001B[38;5;241m.\u001B[39mnn\u001B[38;5;241m.\u001B[39mDataParallel(m)\u001B[38;5;241m.\u001B[39mto(device)\n\u001B[0;32m    114\u001B[0m m\u001B[38;5;241m.\u001B[39meval()\n\u001B[1;32m--> 116\u001B[0m m, epoch0 \u001B[38;5;241m=\u001B[39m \u001B[43mcheckpoint_restore\u001B[49m\u001B[43m(\u001B[49m\u001B[43mm\u001B[49m\u001B[43m,\u001B[49m\u001B[43m \u001B[49m\u001B[43mckptPath\u001B[49m\u001B[43m,\u001B[49m\u001B[43m \u001B[49m\u001B[43mname\u001B[49m\u001B[38;5;241;43m=\u001B[39;49m\u001B[43mckptname\u001B[49m\u001B[43m,\u001B[49m\u001B[43m \u001B[49m\u001B[43mdevice\u001B[49m\u001B[38;5;241;43m=\u001B[39;49m\u001B[43mdevice\u001B[49m\u001B[43m)\u001B[49m\n\u001B[0;32m    117\u001B[0m \u001B[38;5;66;03m#print(\"start from epoch %d\" % epoch0)\u001B[39;00m\n\u001B[0;32m    119\u001B[0m \u001B[38;5;28;01mfor\u001B[39;00m k, (eventLr, eventHr, path) \u001B[38;5;129;01min\u001B[39;00m \u001B[38;5;28menumerate\u001B[39m(testLoader):\n",
      "File \u001B[1;32m~\\PycharmProjects\\EvSR-test2\\utils\\ckpt.py:19\u001B[0m, in \u001B[0;36mcheckpoint_restore\u001B[1;34m(model, path, name, device)\u001B[0m\n\u001B[0;32m     17\u001B[0m \u001B[38;5;28mprint\u001B[39m(\u001B[38;5;124mf\u001B[39m\u001B[38;5;124m\"\u001B[39m\u001B[38;5;124m✅ Loaded checkpoint from: \u001B[39m\u001B[38;5;132;01m{\u001B[39;00mf\u001B[38;5;132;01m}\u001B[39;00m\u001B[38;5;124m\"\u001B[39m)\n\u001B[0;32m     18\u001B[0m model_CKPT \u001B[38;5;241m=\u001B[39m torch\u001B[38;5;241m.\u001B[39mload(f)\n\u001B[1;32m---> 19\u001B[0m \u001B[43mmodel\u001B[49m\u001B[38;5;241;43m.\u001B[39;49m\u001B[43mload_state_dict\u001B[49m\u001B[43m(\u001B[49m\u001B[43mmodel_CKPT\u001B[49m\u001B[43m[\u001B[49m\u001B[38;5;124;43m'\u001B[39;49m\u001B[38;5;124;43mstate_dic\u001B[39;49m\u001B[38;5;124;43m'\u001B[39;49m\u001B[43m]\u001B[49m\u001B[43m)\u001B[49m\n\u001B[0;32m     21\u001B[0m \u001B[38;5;28;01mif\u001B[39;00m \u001B[38;5;124m'\u001B[39m\u001B[38;5;124mepoch\u001B[39m\u001B[38;5;124m'\u001B[39m \u001B[38;5;129;01min\u001B[39;00m model_CKPT:\n\u001B[0;32m     22\u001B[0m     epoch \u001B[38;5;241m=\u001B[39m model_CKPT[\u001B[38;5;124m'\u001B[39m\u001B[38;5;124mepoch\u001B[39m\u001B[38;5;124m'\u001B[39m]\n",
      "File \u001B[1;32m~\\.conda\\envs\\EventSRSNN\\lib\\site-packages\\torch\\nn\\modules\\module.py:2584\u001B[0m, in \u001B[0;36mModule.load_state_dict\u001B[1;34m(self, state_dict, strict, assign)\u001B[0m\n\u001B[0;32m   2576\u001B[0m         error_msgs\u001B[38;5;241m.\u001B[39minsert(\n\u001B[0;32m   2577\u001B[0m             \u001B[38;5;241m0\u001B[39m,\n\u001B[0;32m   2578\u001B[0m             \u001B[38;5;124m\"\u001B[39m\u001B[38;5;124mMissing key(s) in state_dict: \u001B[39m\u001B[38;5;132;01m{}\u001B[39;00m\u001B[38;5;124m. \u001B[39m\u001B[38;5;124m\"\u001B[39m\u001B[38;5;241m.\u001B[39mformat(\n\u001B[0;32m   2579\u001B[0m                 \u001B[38;5;124m\"\u001B[39m\u001B[38;5;124m, \u001B[39m\u001B[38;5;124m\"\u001B[39m\u001B[38;5;241m.\u001B[39mjoin(\u001B[38;5;124mf\u001B[39m\u001B[38;5;124m'\u001B[39m\u001B[38;5;124m\"\u001B[39m\u001B[38;5;132;01m{\u001B[39;00mk\u001B[38;5;132;01m}\u001B[39;00m\u001B[38;5;124m\"\u001B[39m\u001B[38;5;124m'\u001B[39m \u001B[38;5;28;01mfor\u001B[39;00m k \u001B[38;5;129;01min\u001B[39;00m missing_keys)\n\u001B[0;32m   2580\u001B[0m             ),\n\u001B[0;32m   2581\u001B[0m         )\n\u001B[0;32m   2583\u001B[0m \u001B[38;5;28;01mif\u001B[39;00m \u001B[38;5;28mlen\u001B[39m(error_msgs) \u001B[38;5;241m>\u001B[39m \u001B[38;5;241m0\u001B[39m:\n\u001B[1;32m-> 2584\u001B[0m     \u001B[38;5;28;01mraise\u001B[39;00m \u001B[38;5;167;01mRuntimeError\u001B[39;00m(\n\u001B[0;32m   2585\u001B[0m         \u001B[38;5;124m\"\u001B[39m\u001B[38;5;124mError(s) in loading state_dict for \u001B[39m\u001B[38;5;132;01m{}\u001B[39;00m\u001B[38;5;124m:\u001B[39m\u001B[38;5;130;01m\\n\u001B[39;00m\u001B[38;5;130;01m\\t\u001B[39;00m\u001B[38;5;132;01m{}\u001B[39;00m\u001B[38;5;124m\"\u001B[39m\u001B[38;5;241m.\u001B[39mformat(\n\u001B[0;32m   2586\u001B[0m             \u001B[38;5;28mself\u001B[39m\u001B[38;5;241m.\u001B[39m\u001B[38;5;18m__class__\u001B[39m\u001B[38;5;241m.\u001B[39m\u001B[38;5;18m__name__\u001B[39m, \u001B[38;5;124m\"\u001B[39m\u001B[38;5;130;01m\\n\u001B[39;00m\u001B[38;5;130;01m\\t\u001B[39;00m\u001B[38;5;124m\"\u001B[39m\u001B[38;5;241m.\u001B[39mjoin(error_msgs)\n\u001B[0;32m   2587\u001B[0m         )\n\u001B[0;32m   2588\u001B[0m     )\n\u001B[0;32m   2589\u001B[0m \u001B[38;5;28;01mreturn\u001B[39;00m _IncompatibleKeys(missing_keys, unexpected_keys)\n",
      "\u001B[1;31mRuntimeError\u001B[0m: Error(s) in loading state_dict for DataParallel:\n\tMissing key(s) in state_dict: \"module.pos_branch.slayer1.srmKernel\", \"module.pos_branch.slayer1.refKernel\", \"module.pos_branch.slayer2.srmKernel\", \"module.pos_branch.slayer2.refKernel\", \"module.pos_branch.slayer3.srmKernel\", \"module.pos_branch.slayer3.refKernel\", \"module.pos_branch.conv1.weight\", \"module.pos_branch.conv2.weight\", \"module.pos_branch.upconv1.weight\", \"module.pos_branch.attn1.conv.weight\", \"module.pos_branch.attn1.conv.bias\", \"module.pos_branch.attn2.conv.weight\", \"module.pos_branch.attn2.conv.bias\", \"module.neg_branch.slayer1.srmKernel\", \"module.neg_branch.slayer1.refKernel\", \"module.neg_branch.slayer2.srmKernel\", \"module.neg_branch.slayer2.refKernel\", \"module.neg_branch.slayer3.srmKernel\", \"module.neg_branch.slayer3.refKernel\", \"module.neg_branch.conv1.weight\", \"module.neg_branch.conv2.weight\", \"module.neg_branch.upconv1.weight\", \"module.neg_branch.attn1.conv.weight\", \"module.neg_branch.attn1.conv.bias\", \"module.neg_branch.attn2.conv.weight\", \"module.neg_branch.attn2.conv.bias\". \n\tUnexpected key(s) in state_dict: \"module.slayer1.srmKernel\", \"module.slayer1.refKernel\", \"module.slayer2.srmKernel\", \"module.slayer2.refKernel\", \"module.slayer3.srmKernel\", \"module.slayer3.refKernel\", \"module.conv1.weight\", \"module.conv2.weight\", \"module.upconv1.weight\", \"module.attn1.conv.weight\", \"module.attn1.conv.bias\", \"module.attn2.conv.weight\", \"module.attn2.conv.bias\". "
     ]
    }
   ],
   "execution_count": 4
  },
  {
   "metadata": {},
   "cell_type": "code",
   "source": "",
   "id": "89864fde9d15742b",
   "outputs": [],
   "execution_count": null
  },
  {
   "metadata": {},
   "cell_type": "code",
   "source": "",
   "id": "633b7ecef1e7b952",
   "outputs": [],
   "execution_count": null
  }
 ],
 "metadata": {
  "kernelspec": {
   "display_name": "Python 3",
   "language": "python",
   "name": "python3"
  },
  "language_info": {
   "codemirror_mode": {
    "name": "ipython",
    "version": 2
   },
   "file_extension": ".py",
   "mimetype": "text/x-python",
   "name": "python",
   "nbconvert_exporter": "python",
   "pygments_lexer": "ipython2",
   "version": "2.7.6"
  }
 },
 "nbformat": 4,
 "nbformat_minor": 5
}
